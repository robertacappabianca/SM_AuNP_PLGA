{
 "cells": [
  {
   "cell_type": "markdown",
   "metadata": {},
   "source": [
    "Unsupervised learning to explore PLGA clusters \n",
    "---"
   ]
  },
  {
   "cell_type": "markdown",
   "metadata": {},
   "source": [
    "We apply an unsupervised learning scheme to investigate the time evolution of self-assembly pathways of the polymer chains."
   ]
  },
  {
   "cell_type": "markdown",
   "metadata": {},
   "source": [
    "## Libraries"
   ]
  },
  {
   "cell_type": "code",
   "execution_count": 50,
   "metadata": {},
   "outputs": [],
   "source": [
    "import os\n",
    "\n",
    "import ase\n",
    "import hdbscan\n",
    "import matplotlib.pyplot as plt\n",
    "import mdtraj\n",
    "import numpy as np\n",
    "import pandas as pd\n",
    "from ase.data import chemical_symbols\n",
    "from ase.io import write"
   ]
  },
  {
   "cell_type": "markdown",
   "metadata": {},
   "source": [
    "## Set figure style"
   ]
  },
  {
   "cell_type": "code",
   "execution_count": 4,
   "metadata": {},
   "outputs": [],
   "source": [
    "plt.style.use(\"figure_style.mplstyle\")"
   ]
  },
  {
   "cell_type": "markdown",
   "metadata": {},
   "source": [
    "## [HDBSCAN* algorithm](https://hdbscan.readthedocs.io/en/latest/basic_hdbscan.html) <a name=\"S1\"></a> "
   ]
  },
  {
   "cell_type": "markdown",
   "metadata": {},
   "source": [
    "### Loading trajectories <a name=\"S1.1\"></a> "
   ]
  },
  {
   "cell_type": "markdown",
   "metadata": {},
   "source": [
    "At the end of the self-assembly simulations, save the trajectory of the AuNP and PLGAs using [`gmx trjconv`](https://manual.gromacs.org/documentation/5.1/onlinehelp/gmx-trjconv.html)\n",
    "> **NOTE**: we show the analysis for the configuration with 60 PLGAs, but for the others it will be enough to change the trajectory and the number of PLGA as the hyperparameters used are the same."
   ]
  },
  {
   "cell_type": "code",
   "execution_count": 24,
   "metadata": {
    "tags": []
   },
   "outputs": [
    {
     "name": "stdout",
     "output_type": "stream",
     "text": [
      "trj: ../simulations/1-PLGA_self-assembly/60/MD/traj_nowater.xtc, top: ../simulations/1-PLGA_self-assembly/60/MD/top_nowater.gro\n"
     ]
    }
   ],
   "source": [
    "dir_sim = \"../simulations/1-PLGA_self-assembly/60/MD\"\n",
    "traj_path = os.path.join(dir_sim, \"traj_nowater.xtc\")\n",
    "gro_path = os.path.join(dir_sim, \"top_nowater.gro\")\n",
    "print(f\"trj: {traj_path}, top: {gro_path}\")"
   ]
  },
  {
   "cell_type": "code",
   "execution_count": 25,
   "metadata": {},
   "outputs": [],
   "source": [
    "traj = mdtraj.load_xtc(traj_path, top=gro_path)"
   ]
  },
  {
   "cell_type": "markdown",
   "metadata": {},
   "source": [
    "### Clustering analysis <a name=\"S1.2\"></a> "
   ]
  },
  {
   "cell_type": "code",
   "execution_count": 31,
   "metadata": {},
   "outputs": [],
   "source": [
    "all_frame = []\n",
    "n_gold = 1925\n",
    "n_clust_per_frame = np.zeros(len(traj))\n",
    "for i_frame in range(0, len(traj), 50):\n",
    "    positions_plga = traj.xyz[i_frame, n_gold:, :]\n",
    "    positions_plga = positions_plga - positions_plga.mean(axis=0)\n",
    "    clusterer = hdbscan.HDBSCAN(\n",
    "        min_cluster_size=60,\n",
    "        min_samples=7,\n",
    "        metric=\"manhattan\",\n",
    "        cluster_selection_method=\"leaf\",\n",
    "        prediction_data=True,\n",
    "    ).fit(positions_plga)\n",
    "    n_clust_per_frame[i_frame] = clusterer.labels_.max() + 1"
   ]
  },
  {
   "cell_type": "markdown",
   "metadata": {},
   "source": [
    "Save the data"
   ]
  },
  {
   "cell_type": "code",
   "execution_count": 35,
   "metadata": {},
   "outputs": [
    {
     "data": {
      "text/html": [
       "<div>\n",
       "<style scoped>\n",
       "    .dataframe tbody tr th:only-of-type {\n",
       "        vertical-align: middle;\n",
       "    }\n",
       "\n",
       "    .dataframe tbody tr th {\n",
       "        vertical-align: top;\n",
       "    }\n",
       "\n",
       "    .dataframe thead th {\n",
       "        text-align: right;\n",
       "    }\n",
       "</style>\n",
       "<table border=\"1\" class=\"dataframe\">\n",
       "  <thead>\n",
       "    <tr style=\"text-align: right;\">\n",
       "      <th></th>\n",
       "      <th>time</th>\n",
       "      <th>n_clusters</th>\n",
       "      <th>mov_averg</th>\n",
       "      <th>ewm_averg</th>\n",
       "    </tr>\n",
       "  </thead>\n",
       "  <tbody>\n",
       "    <tr>\n",
       "      <th>0</th>\n",
       "      <td>NaN</td>\n",
       "      <td>NaN</td>\n",
       "      <td>NaN</td>\n",
       "      <td>NaN</td>\n",
       "    </tr>\n",
       "    <tr>\n",
       "      <th>1</th>\n",
       "      <td>NaN</td>\n",
       "      <td>NaN</td>\n",
       "      <td>NaN</td>\n",
       "      <td>NaN</td>\n",
       "    </tr>\n",
       "    <tr>\n",
       "      <th>2</th>\n",
       "      <td>NaN</td>\n",
       "      <td>NaN</td>\n",
       "      <td>NaN</td>\n",
       "      <td>NaN</td>\n",
       "    </tr>\n",
       "    <tr>\n",
       "      <th>3</th>\n",
       "      <td>NaN</td>\n",
       "      <td>NaN</td>\n",
       "      <td>NaN</td>\n",
       "      <td>NaN</td>\n",
       "    </tr>\n",
       "    <tr>\n",
       "      <th>4</th>\n",
       "      <td>NaN</td>\n",
       "      <td>NaN</td>\n",
       "      <td>NaN</td>\n",
       "      <td>NaN</td>\n",
       "    </tr>\n",
       "  </tbody>\n",
       "</table>\n",
       "</div>"
      ],
      "text/plain": [
       "   time  n_clusters  mov_averg  ewm_averg\n",
       "0   NaN         NaN        NaN        NaN\n",
       "1   NaN         NaN        NaN        NaN\n",
       "2   NaN         NaN        NaN        NaN\n",
       "3   NaN         NaN        NaN        NaN\n",
       "4   NaN         NaN        NaN        NaN"
      ]
     },
     "execution_count": 35,
     "metadata": {},
     "output_type": "execute_result"
    }
   ],
   "source": [
    "time_ns = np.arange(0, len(traj) * 10 / 1000, 50 * 10 / 1000)\n",
    "n_clust = n_clust_per_frame[n_clust_per_frame > 0]\n",
    "t_ns = len(time_ns)\n",
    "columns = [\"time\"] + [\"n_clusters\"] + [\"mov_averg\"] + [\"ewm_averg\"]\n",
    "N_variables = len(columns)\n",
    "postp_df = pd.DataFrame(np.ones((t_ns, N_variables)) * np.nan, columns=columns)\n",
    "postp_df.head()"
   ]
  },
  {
   "cell_type": "markdown",
   "metadata": {},
   "source": [
    "> We computed two types of moving averages using [`pandas` function](https://pandas.pydata.org/docs/reference/frame.html#) to evaluate the most suitable for our analysis, namely [exponential weighted (EM) functions](https://pandas.pydata.org/docs/reference/api/pandas.DataFrame.ewm.html)."
   ]
  },
  {
   "cell_type": "code",
   "execution_count": 37,
   "metadata": {},
   "outputs": [],
   "source": [
    "mov_average = postp_df[\"n_clusters\"].rolling(10, min_periods=1).mean()\n",
    "ewm_average = np.round(postp_df[\"n_clusters\"].ewm(alpha=0.25, adjust=False).mean())"
   ]
  },
  {
   "cell_type": "code",
   "execution_count": 38,
   "metadata": {},
   "outputs": [],
   "source": [
    "postp_df.loc[:, \"time\"] = time_ns\n",
    "postp_df.loc[:, \"n_clusters\"] = n_clust\n",
    "postp_df.loc[:, \"mov_averg\"] = mov_average\n",
    "postp_df.loc[:, \"ewm_averg\"] = ewm_average"
   ]
  },
  {
   "cell_type": "code",
   "execution_count": 39,
   "metadata": {},
   "outputs": [
    {
     "data": {
      "text/html": [
       "<div>\n",
       "<style scoped>\n",
       "    .dataframe tbody tr th:only-of-type {\n",
       "        vertical-align: middle;\n",
       "    }\n",
       "\n",
       "    .dataframe tbody tr th {\n",
       "        vertical-align: top;\n",
       "    }\n",
       "\n",
       "    .dataframe thead th {\n",
       "        text-align: right;\n",
       "    }\n",
       "</style>\n",
       "<table border=\"1\" class=\"dataframe\">\n",
       "  <thead>\n",
       "    <tr style=\"text-align: right;\">\n",
       "      <th></th>\n",
       "      <th>time</th>\n",
       "      <th>n_clusters</th>\n",
       "      <th>mov_averg</th>\n",
       "      <th>ewm_averg</th>\n",
       "    </tr>\n",
       "  </thead>\n",
       "  <tbody>\n",
       "    <tr>\n",
       "      <th>0</th>\n",
       "      <td>0.0</td>\n",
       "      <td>48.0</td>\n",
       "      <td>48.000000</td>\n",
       "      <td>48.0</td>\n",
       "    </tr>\n",
       "    <tr>\n",
       "      <th>1</th>\n",
       "      <td>0.5</td>\n",
       "      <td>43.0</td>\n",
       "      <td>45.500000</td>\n",
       "      <td>47.0</td>\n",
       "    </tr>\n",
       "    <tr>\n",
       "      <th>2</th>\n",
       "      <td>1.0</td>\n",
       "      <td>39.0</td>\n",
       "      <td>43.333333</td>\n",
       "      <td>45.0</td>\n",
       "    </tr>\n",
       "    <tr>\n",
       "      <th>3</th>\n",
       "      <td>1.5</td>\n",
       "      <td>37.0</td>\n",
       "      <td>41.750000</td>\n",
       "      <td>43.0</td>\n",
       "    </tr>\n",
       "    <tr>\n",
       "      <th>4</th>\n",
       "      <td>2.0</td>\n",
       "      <td>35.0</td>\n",
       "      <td>40.400000</td>\n",
       "      <td>41.0</td>\n",
       "    </tr>\n",
       "    <tr>\n",
       "      <th>...</th>\n",
       "      <td>...</td>\n",
       "      <td>...</td>\n",
       "      <td>...</td>\n",
       "      <td>...</td>\n",
       "    </tr>\n",
       "    <tr>\n",
       "      <th>196</th>\n",
       "      <td>98.0</td>\n",
       "      <td>12.0</td>\n",
       "      <td>10.100000</td>\n",
       "      <td>11.0</td>\n",
       "    </tr>\n",
       "    <tr>\n",
       "      <th>197</th>\n",
       "      <td>98.5</td>\n",
       "      <td>7.0</td>\n",
       "      <td>9.900000</td>\n",
       "      <td>10.0</td>\n",
       "    </tr>\n",
       "    <tr>\n",
       "      <th>198</th>\n",
       "      <td>99.0</td>\n",
       "      <td>11.0</td>\n",
       "      <td>10.100000</td>\n",
       "      <td>10.0</td>\n",
       "    </tr>\n",
       "    <tr>\n",
       "      <th>199</th>\n",
       "      <td>99.5</td>\n",
       "      <td>10.0</td>\n",
       "      <td>10.300000</td>\n",
       "      <td>10.0</td>\n",
       "    </tr>\n",
       "    <tr>\n",
       "      <th>200</th>\n",
       "      <td>100.0</td>\n",
       "      <td>8.0</td>\n",
       "      <td>10.200000</td>\n",
       "      <td>10.0</td>\n",
       "    </tr>\n",
       "  </tbody>\n",
       "</table>\n",
       "<p>201 rows × 4 columns</p>\n",
       "</div>"
      ],
      "text/plain": [
       "      time  n_clusters  mov_averg  ewm_averg\n",
       "0      0.0        48.0  48.000000       48.0\n",
       "1      0.5        43.0  45.500000       47.0\n",
       "2      1.0        39.0  43.333333       45.0\n",
       "3      1.5        37.0  41.750000       43.0\n",
       "4      2.0        35.0  40.400000       41.0\n",
       "..     ...         ...        ...        ...\n",
       "196   98.0        12.0  10.100000       11.0\n",
       "197   98.5         7.0   9.900000       10.0\n",
       "198   99.0        11.0  10.100000       10.0\n",
       "199   99.5        10.0  10.300000       10.0\n",
       "200  100.0         8.0  10.200000       10.0\n",
       "\n",
       "[201 rows x 4 columns]"
      ]
     },
     "execution_count": 39,
     "metadata": {},
     "output_type": "execute_result"
    }
   ],
   "source": [
    "postp_df"
   ]
  },
  {
   "cell_type": "markdown",
   "metadata": {},
   "source": [
    "### Plot the results <a name=\"S1.3\"></a> "
   ]
  },
  {
   "cell_type": "code",
   "execution_count": 40,
   "metadata": {},
   "outputs": [
    {
     "data": {
      "image/png": "[encoded data removed]",
      "text/plain": [
       "<Figure size 630x230 with 1 Axes>"
      ]
     },
     "metadata": {
      "needs_background": "light"
     },
     "output_type": "display_data"
    }
   ],
   "source": [
    "fig1 = plt.figure(1, figsize=(3.15, 1.15), dpi=200)\n",
    "ax = fig1.add_subplot()\n",
    "\n",
    "ax.plot(\n",
    "    postp_df[\"time\"],\n",
    "    postp_df[\"n_clusters\"],\n",
    "    ls=\"-\",\n",
    "    color=plt.get_cmap(\"Set2\")(3),\n",
    "    alpha=0.35,\n",
    "    lw=0.7,\n",
    ")\n",
    "ax.plot(postp_df[\"time\"], postp_df[\"ewm_averg\"], color=plt.get_cmap(\"Set2\")(3), lw=1.5)\n",
    "\n",
    "ax.set_xlabel(\"times [ns]\")\n",
    "ax.set_ylabel(\"# PLGA Clusters [-]\")\n",
    "plt.show()"
   ]
  },
  {
   "cell_type": "markdown",
   "metadata": {},
   "source": [
    "### Save in pdb file for rendering analysis in VMD <a name=\"S1.4\"></a> "
   ]
  },
  {
   "cell_type": "code",
   "execution_count": 41,
   "metadata": {},
   "outputs": [
    {
     "data": {
      "text/plain": [
       "array([ 0,  0,  0, ..., 59, 59, 59], dtype=int32)"
      ]
     },
     "execution_count": 41,
     "metadata": {},
     "output_type": "execute_result"
    }
   ],
   "source": [
    "n_plga = 60  # Remember to change for the other configurations\n",
    "n_gold = 1925\n",
    "plga_mask = np.arange(n_plga)\n",
    "plga_mask = np.expand_dims(plga_mask, 1)\n",
    "plga_mask = plga_mask.repeat(\n",
    "    69, axis=1\n",
    ")  # Note: 69 is the number of atoms forming one PLGA\n",
    "plga_mask = np.concatenate(plga_mask)\n",
    "plga_mask = plga_mask.astype(\"int32\")\n",
    "plga_mask"
   ]
  },
  {
   "cell_type": "markdown",
   "metadata": {},
   "source": [
    "We save snapshots of the evolution of the clustering analysis at 0 ns, 20 ns and 100 ns."
   ]
  },
  {
   "cell_type": "code",
   "execution_count": 42,
   "metadata": {},
   "outputs": [],
   "source": [
    "time_sel = np.where(traj.time == 20000)[0][0]\n",
    "n_frame = [0, time_sel, -1]"
   ]
  },
  {
   "cell_type": "code",
   "execution_count": 49,
   "metadata": {},
   "outputs": [],
   "source": [
    "for i, frame_i in enumerate(n_frame):\n",
    "    frame_t = traj.time[frame_i] * 1e-3\n",
    "    box = traj.unitcell_vectors[frame_i]\n",
    "    positions_plga = traj.xyz[frame_i, n_gold:, :]\n",
    "    clusterer = hdbscan.HDBSCAN(\n",
    "        min_cluster_size=60,\n",
    "        min_samples=7,\n",
    "        metric=\"manhattan\",\n",
    "        cluster_selection_method=\"leaf\",\n",
    "        prediction_data=True,\n",
    "    ).fit(positions_plga)\n",
    "\n",
    "    au_pos = traj.xyz[frame_i, :n_gold, :]\n",
    "    au_name = [chemical_symbols[0]] * n_gold\n",
    "    system = ase.Atoms(au_name, au_pos * 10)\n",
    "    clust_label = clusterer.labels_\n",
    "    for cluster_id in range(0, clusterer.labels_.max() + 1):\n",
    "        atom_id_clust = np.where(clust_label == cluster_id)[0]\n",
    "        plga_id_clust = np.unique(plga_mask[atom_id_clust])\n",
    "\n",
    "        idx_atoms_clust = []\n",
    "        for plga_id in plga_id_clust:\n",
    "            idx_atoms_clust += np.where(plga_mask == plga_id)[0].tolist()\n",
    "\n",
    "        idx_atoms_clust = np.array(idx_atoms_clust)\n",
    "        clust_atom_pos = positions_plga[idx_atoms_clust]\n",
    "        clust_atom_name = [chemical_symbols[cluster_id + 2]] * len(idx_atoms_clust)\n",
    "        clust_ase_atom = ase.Atoms(clust_atom_name, clust_atom_pos * 10)\n",
    "        system += clust_ase_atom\n",
    "\n",
    "    system.set_cell(box * 10)\n",
    "    system.set_pbc(True)\n",
    "    ase.io.write(f\"clust60_frame_{frame_t}.pdb\", system, \"proteindatabank\")"
   ]
  }
 ],
 "metadata": {
  "kernelspec": {
   "display_name": "Python 3",
   "language": "python",
   "name": "python3"
  },
  "language_info": {
   "codemirror_mode": {
    "name": "ipython",
    "version": 3
   },
   "file_extension": ".py",
   "mimetype": "text/x-python",
   "name": "python",
   "nbconvert_exporter": "python",
   "pygments_lexer": "ipython3",
   "version": "3.8.10"
  },
  "toc-autonumbering": true,
  "toc-showcode": true
 },
 "nbformat": 4,
 "nbformat_minor": 4
}
