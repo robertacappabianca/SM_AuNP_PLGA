{
 "cells": [
  {
   "cell_type": "markdown",
   "metadata": {},
   "source": [
    "Setup umbrella sampling approach\n",
    "---"
   ]
  },
  {
   "cell_type": "markdown",
   "metadata": {},
   "source": [
    "We use [umbrella sampling](http://www.mdtutorials.com/gmx/umbrella/index.html) for the calculations of the Potential of Mean Force (PMF) of adsorption of PLGA polymer on the gold nanoparticle."
   ]
  },
  {
   "cell_type": "markdown",
   "metadata": {},
   "source": [
    "## Libraries"
   ]
  },
  {
   "cell_type": "code",
   "execution_count": 1,
   "metadata": {},
   "outputs": [],
   "source": [
    "import os\n",
    "import shutil\n",
    "import sys"
   ]
  },
  {
   "cell_type": "markdown",
   "metadata": {},
   "source": [
    "## Create the topology <a name=\"S1\"></a> "
   ]
  },
  {
   "cell_type": "markdown",
   "metadata": {},
   "source": [
    "We use [`Packmol`](http://leandro.iqm.unicamp.br/m3g/packmol/userguide.shtml) code:\n",
    "\n",
    "1. To rotate the gold nanoparticle so as to calculate the PMF between different angular positions of the AuNP and the PLGA;\n",
    "2. To place the PLGA as close as possible to the gold nanoparticle surface."
   ]
  },
  {
   "cell_type": "markdown",
   "metadata": {},
   "source": [
    "### Rotate the AuNP <a name=\"S1.1\"></a> "
   ]
  },
  {
   "cell_type": "markdown",
   "metadata": {},
   "source": [
    "> **Note**: We rotate the AuNP around the axis r, orthogonal to both crystalline plane normal vectors (see the schematic NP sketch in figure below).\n",
    "\n",
    "> The axis and rotation angles are calculated in the jupyter notebook: `4.1-rotation_NP.ipynb` \n",
    "\n",
    "<p align=\"left\">\n",
    "<img src=\"../img/np_sketch.png\" width=\"30%\" height =\"30%\" style=\"background-color:white\">\n",
    "</p>\n",
    "\n",
    "> $\\theta = 0.0°$ and $\\theta = 54.7°$ have the reaction coordinate $\\xi$ perpendicular to {1 0 0} and {1 1 1} planes, respectively, while the other two orientation show intermediate cases."
   ]
  },
  {
   "cell_type": "markdown",
   "metadata": {},
   "source": [
    "Change the variables `theta` and `fixed` in the following way:\n",
    "\n",
    "1. `theta` = 0 , `fixed 35.0 35.0 35.0 0.0 0.0 0.0` \n",
    "2. `theta` = 18 , `fixed 35.0 35.0 35.0 0.229013 -0.223233 0.025779`\n",
    "3. `theta` = 36 , `fixed 35.0 35.0 35.0 0.481915 -0.434005 0.108249`\n",
    "4. `theta` = 54 , `fixed 35.0 35.0 35.0 0.785398 -0.615479 0.261799`\n",
    "\n",
    "> Remember to change the name of the `output` file, to not overwrite them."
   ]
  },
  {
   "cell_type": "code",
   "execution_count": 24,
   "metadata": {},
   "outputs": [
    {
     "name": "stdout",
     "output_type": "stream",
     "text": [
      "[Errno 2] No such file or directory: '../simulations/0-Packmol/'\n",
      "/home/roberta/SM_AuNP_PLGA/simulations/0-Packmol\n"
     ]
    }
   ],
   "source": [
    "%cd ../simulations/0-Packmol/\n",
    "file_NP = \"AuNP_ASE_wulff_surf_d39.pdb\"\n",
    "theta = 54\n",
    "\n",
    "with open(os.path.join(\"inputs_US\", \"packmol_%d.in\" % theta), \"w\") as file_obj:\n",
    "    file_obj.write(\n",
    "        \"\"\"\n",
    "filetype pdb\n",
    "tolerance 2.0  \n",
    "\n",
    "structure {:s}\n",
    "number 1\n",
    "center\n",
    "fixed 35.0 35.0 35.0 0.785398 -0.615479 0.261799\n",
    "end structure \n",
    "\n",
    "output AuNP_54.7.pdb         \n",
    "\n",
    "        \"\"\".format(\n",
    "            file_NP, theta\n",
    "        )\n",
    "    )"
   ]
  },
  {
   "cell_type": "code",
   "execution_count": null,
   "metadata": {},
   "outputs": [],
   "source": [
    "# Change the name of the packmol input\n",
    "\n",
    "%cd inputs_US/\n",
    "!packmol < packmol_54.in"
   ]
  },
  {
   "cell_type": "markdown",
   "metadata": {},
   "source": [
    "### Place the PLGA <a name=\"S1.2\"></a> "
   ]
  },
  {
   "cell_type": "markdown",
   "metadata": {},
   "source": [
    "Change the variables `theta` and `file_NP` in the following way:\n",
    "\n",
    "1. `theta` = 0 , `file_NP` AuNP_0.0.pdb\n",
    "2. `theta` = 18 , `file_NP` AuNP_18.2.pdb\n",
    "3. `theta` = 36 , `file_NP` AuNP_36.5.pdb\n",
    "4. `theta` = 54 , `file_NP` AuNP_54.7.pdb\n",
    "\n",
    "> Remember to change the name of the `output` file, to not overwrite them."
   ]
  },
  {
   "cell_type": "code",
   "execution_count": 38,
   "metadata": {},
   "outputs": [
    {
     "name": "stdout",
     "output_type": "stream",
     "text": [
      "/home/roberta/SM_AuNP_PLGA/simulations/0-Packmol\n"
     ]
    }
   ],
   "source": [
    "%cd .."
   ]
  },
  {
   "cell_type": "code",
   "execution_count": 39,
   "metadata": {},
   "outputs": [],
   "source": [
    "file_NP = \"AuNP_54.7.pdb\"\n",
    "file_PLGA = \"2PLGA_chain_conect.pdb\"\n",
    "theta = 54\n",
    "\n",
    "with open(os.path.join(\"inputs_US\", \"packmol_tot_%d.in\" % theta), \"w\") as file_obj:\n",
    "    file_obj.write(\n",
    "        \"\"\"\n",
    "filetype pdb\n",
    "tolerance 2.0  \n",
    "\n",
    "structure {:s}\n",
    "number 1\n",
    "center\n",
    "fixed 35.0 35.0 35.0 0.0 0.0 0.0\n",
    "end structure \n",
    "\n",
    "structure {:s}\n",
    "  number 1\n",
    "  center\n",
    "  fixed 35.0 35.0 57.0 0.0 0.0 0.0\n",
    "end structure \n",
    "\n",
    "output ic_54.7.pdb         \n",
    "\n",
    "        \"\"\".format(\n",
    "            file_NP, file_PLGA, theta\n",
    "        )\n",
    "    )"
   ]
  },
  {
   "cell_type": "code",
   "execution_count": null,
   "metadata": {},
   "outputs": [],
   "source": [
    "# Change the name of the packmol input\n",
    "\n",
    "%cd inputs_US/\n",
    "!packmol < packmol_tot_54.in"
   ]
  },
  {
   "cell_type": "code",
   "execution_count": 49,
   "metadata": {},
   "outputs": [
    {
     "name": "stdout",
     "output_type": "stream",
     "text": [
      "/home/roberta/SM_AuNP_PLGA/simulations/0-Packmol/inputs_US\n"
     ]
    }
   ],
   "source": [
    "!pwd"
   ]
  },
  {
   "cell_type": "code",
   "execution_count": 57,
   "metadata": {},
   "outputs": [
    {
     "data": {
      "text/plain": [
       "'../../2-US_free_energy/theta_54.7/TOP/ic.pdb'"
      ]
     },
     "execution_count": 57,
     "metadata": {},
     "output_type": "execute_result"
    }
   ],
   "source": [
    "# We copy the input files into their respective folders changing the variable `theta_`\n",
    "angle = 54.7\n",
    "\n",
    "shutil.copyfile(\n",
    "    os.path.join(f\"ic_{angle}.pdb\"),\n",
    "    os.path.join(\"..\", \"..\", \"2-US_free_energy\", f\"theta_{angle}\", \"TOP\", \"ic.pdb\"),\n",
    ")"
   ]
  },
  {
   "cell_type": "code",
   "execution_count": 59,
   "metadata": {},
   "outputs": [
    {
     "name": "stdout",
     "output_type": "stream",
     "text": [
      "/home/roberta/SM_AuNP_PLGA/simulations/2-US_free_energy\n"
     ]
    }
   ],
   "source": [
    "%cd ../../2-US_free_energy/"
   ]
  },
  {
   "cell_type": "markdown",
   "metadata": {},
   "source": [
    "Then, we generate the topology through `GROMACS` software, using the mixed force field `mix_oplsaa.ff`."
   ]
  },
  {
   "cell_type": "code",
   "execution_count": null,
   "metadata": {},
   "outputs": [],
   "source": [
    "# Change the folder name and generate the topology for all the configurations\n",
    "\n",
    "%cd theta_54.7//TOP\n",
    "!gmx pdb2gmx -f ic.pdb -o ic.gro -water spce -ff mix_oplsaa"
   ]
  },
  {
   "cell_type": "markdown",
   "metadata": {},
   "source": [
    "> Remember to change the name of the position restrains in POSRES_GOLD and in POSRES_PLGA for the files `topol_Other.itp` and `topol_Other_chain_A.itp`, respectively"
   ]
  },
  {
   "cell_type": "markdown",
   "metadata": {},
   "source": [
    "> **NOTE**: We describe the US protocol followed for a single configuration ($\\theta=54.7°$) because it is the same also for the others."
   ]
  },
  {
   "cell_type": "markdown",
   "metadata": {},
   "source": [
    "## Our US protocol <a name=\"S2\"></a> "
   ]
  },
  {
   "cell_type": "markdown",
   "metadata": {},
   "source": [
    "### Define box and carry out solvation <a name=\"S2.1\"></a> "
   ]
  },
  {
   "cell_type": "code",
   "execution_count": null,
   "metadata": {},
   "outputs": [],
   "source": [
    "%cd ../BOX\n",
    "!gmx editconf -f ../TOP/ic.gro -o newbox.gro -c no -center 3.5 3.5 3.5 -box 7.0 7.0 13.0 -bt triclinic\n",
    "!gmx solvate -cp newbox.gro -cs spc216.gro -o solv.gro -p ../TOP/topol.top"
   ]
  },
  {
   "cell_type": "markdown",
   "metadata": {},
   "source": [
    "### Energy minimization <a name=\"S2.2\"></a> "
   ]
  },
  {
   "cell_type": "code",
   "execution_count": null,
   "metadata": {},
   "outputs": [],
   "source": [
    "%cd ../EM\n",
    "!gmx grompp -f minim.mdp -c ../BOX/solv.gro -p ../TOP/topol.top -o em.tpr  \n",
    "!gmx mdrun -v -deffnm em\t"
   ]
  },
  {
   "cell_type": "markdown",
   "metadata": {},
   "source": [
    "### Equilibration <a name=\"S2.3\"></a> "
   ]
  },
  {
   "cell_type": "markdown",
   "metadata": {},
   "source": [
    "We apply the canonical ensemble `NVT` to reach an equilibrium temperature of 300 K"
   ]
  },
  {
   "cell_type": "code",
   "execution_count": null,
   "metadata": {},
   "outputs": [],
   "source": [
    "%cd ../NVT\n",
    "!gmx grompp -f nvt.mdp -r ../EM/em.gro -c ../EM/em.gro -p ../TOP/topol.top -o nvt.tpr  \n",
    "!gmx mdrun -v -deffnm nvt\t\t\t\t\t"
   ]
  },
  {
   "cell_type": "markdown",
   "metadata": {},
   "source": [
    "We set the isothermal-isobaric ensemble `NPT` at an equilibrium pressure of 1 bar"
   ]
  },
  {
   "cell_type": "code",
   "execution_count": null,
   "metadata": {},
   "outputs": [],
   "source": [
    "%cd ../NPT\n",
    "!gmx grompp -f npt.mdp -r ../NVT/nvt.gro -c ../NVT/nvt.gro -p ../TOP/topol.top -o npt.tpr  \n",
    "!gmx mdrun -v -deffnm npt\t"
   ]
  },
  {
   "cell_type": "markdown",
   "metadata": {},
   "source": [
    "### Generate configurations <a name=\"S2.4\"></a> "
   ]
  },
  {
   "cell_type": "markdown",
   "metadata": {},
   "source": [
    "We carry out 2.5 ns MD simulation in which the NP is constrained to its initial position while the PLGA is pulled along the z-axis."
   ]
  },
  {
   "cell_type": "markdown",
   "metadata": {},
   "source": [
    "> **NOTE**: We need to define some custom index groups (`gold` and `plga`) for this pulling simulation, using [make_ndx](https://manual.gromacs.org/current/onlinehelp/gmx-make_ndx.html)."
   ]
  },
  {
   "cell_type": "code",
   "execution_count": null,
   "metadata": {},
   "outputs": [],
   "source": [
    "%cd ../PULL\n",
    "!gmx grompp -f md_pull.mdp -r ../NPT/npt.gro -c ../NPT/npt.gro -t ../NPT/npt.cpt -n ../NPT/index.ndx -p ../TOP/topol.top -o pull.tpr  \n",
    "!gmx mdrun -v -deffnm pull -pf pullf.xvg -px pullx.xvg"
   ]
  },
  {
   "cell_type": "markdown",
   "metadata": {},
   "source": [
    "\n",
    "Saving snapshots every 1 ps, the reaction coordinate is divided into single sampling windows.\n",
    "\n",
    "> `echo 0` means to execute the command for the whole system (AuNP, PLGA and water) "
   ]
  },
  {
   "cell_type": "code",
   "execution_count": null,
   "metadata": {},
   "outputs": [],
   "source": [
    "%cd ..\n",
    "!mkdir CONF\n",
    "%cd CONF\n",
    "\n",
    "!echo 0|gmx trjconv -s ../PULL/pull.tpr -f ../PULL/pull.xtc -o conf.gro -sep "
   ]
  },
  {
   "cell_type": "markdown",
   "metadata": {},
   "source": [
    "### Umbrella sampling <a name=\"S2.5\"></a> "
   ]
  },
  {
   "cell_type": "markdown",
   "metadata": {},
   "source": [
    "For each selected window we re-run our MD protocol starting from equilibration steps and concluding with a 10 ns of production run.\n",
    "\n",
    "> Here, I show the command lines for the first windows (`conf0.gro`). The input `conf*.gro` must be changed according to the window you choose to consider. "
   ]
  },
  {
   "cell_type": "code",
   "execution_count": null,
   "metadata": {},
   "outputs": [],
   "source": [
    "%cd ../UMB\n",
    "\n",
    "!gmx grompp -f nvt_umbrella.mdp -r ../CONF/conf0.gro -c ../CONF/conf0.gro -p ../TOP/topol.top -n ../NPT/index.ndx -o nvt0.tpr  \n",
    "!gmx mdrun -v -deffnm nvt0\n",
    "\n",
    "!gmx grompp -f npt_umbrella.mdp -r ../NVT/nvt0.gro -c ../NVT/nvt0.gro -p ../TOP/topol.top -n ../NPT/index.ndx -o npt0.tpr  \n",
    "!gmx mdrun -v -deffnm npt0\n",
    "\n",
    "!gmx grompp -f md_umbrella.mdp -r ../NPT/npt0.gro -c ../NPT/npt0.gro -t ../NPT/npt0.cpt -p ../TOP/topol.top -n ../NPT/index.ndx -o umbrella0.tpr  \n",
    "!gmx mdrun -v -deffnm umbrella0"
   ]
  },
  {
   "cell_type": "markdown",
   "metadata": {},
   "source": [
    "### [Weighted histogram analysis method](http://www.alchemistry.org/wiki/Weighted_Histogram_Analysis_Method) <a name=\"S2.6\"></a> "
   ]
  },
  {
   "cell_type": "markdown",
   "metadata": {},
   "source": [
    "We obtain the PMF profile using WHAM included in GROMACS."
   ]
  },
  {
   "cell_type": "markdown",
   "metadata": {},
   "source": [
    "The input to wham consists of two files, one that lists the names of the .tpr files of each window (`tpr-files.dat`), and the other that lists the names of either the pullf.xvg files from each window (`pullf-files.dat`)."
   ]
  },
  {
   "cell_type": "code",
   "execution_count": null,
   "metadata": {},
   "outputs": [],
   "source": [
    "%cd ../\n",
    "!mkdir ANALYSIS\n",
    "%cd ANALYSIS\n",
    "!gmx wham -it tpr-files.dat -if pullf-files.dat -o -hist -bsres -bsprof -unit kJ -nBootstrap 50 -bs-method b-hist "
   ]
  }
 ],
 "metadata": {
  "kernelspec": {
   "display_name": "Python 3",
   "language": "python",
   "name": "python3"
  },
  "language_info": {
   "codemirror_mode": {
    "name": "ipython",
    "version": 3
   },
   "file_extension": ".py",
   "mimetype": "text/x-python",
   "name": "python",
   "nbconvert_exporter": "python",
   "pygments_lexer": "ipython3",
   "version": "3.8.10"
  },
  "toc-autonumbering": true,
  "toc-showcode": true
 },
 "nbformat": 4,
 "nbformat_minor": 4
}
