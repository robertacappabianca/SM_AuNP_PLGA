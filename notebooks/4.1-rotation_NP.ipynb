{
 "cells": [
  {
   "cell_type": "markdown",
   "metadata": {},
   "source": [
    "Gold nanoparticle rotation\n",
    "---"
   ]
  },
  {
   "cell_type": "markdown",
   "metadata": {},
   "source": [
    "## Libraries"
   ]
  },
  {
   "cell_type": "code",
   "execution_count": 3,
   "metadata": {},
   "outputs": [],
   "source": [
    "import numpy as np\n",
    "from scipy.spatial.transform import Rotation as R"
   ]
  },
  {
   "cell_type": "markdown",
   "metadata": {},
   "source": [
    "## Canonical rotation matrix <a name=\"S1\"></a> "
   ]
  },
  {
   "cell_type": "markdown",
   "metadata": {},
   "source": [
    "$\n",
    "\\mathbf{R}_{xyz} = \\mathbf{R}_{x}\\mathbf{R}_{y}\\mathbf{R}_{z} = \\left[R_{ij}\\right] =\n",
    "$ \n",
    "\n",
    "\\begin{bmatrix}\n",
    "c_y c_z & -c_y s_z & s_y \\\\\n",
    "s_x s_y c_z + c_x s_z & -s_x s_y c_z + c_x c_z & -s_x c_y \\\\\n",
    "-c_x s_y c_z + s_x s_z & c_x s_y s_z + s_x c_z & c_x c_y \n",
    "\\end{bmatrix}\n",
    "\n",
    "$\n",
    "\\text{where } c_i = \\cos\\theta_i,\\; s_i = \\sin\\theta_i,\\;\\text{e } i=x,y,z.\n",
    "$"
   ]
  },
  {
   "cell_type": "markdown",
   "metadata": {},
   "source": [
    "so if I know the matrix $\\mathbf{R}_{xyz}$ I can find the angles of rotation:\n",
    "\n",
    "$ \\theta_y = \\sin^{-1}\\left( R_{1,3} \\right)$\n",
    "\n",
    "$ \\theta_z = \\cos^{-1}\\left(  \\dfrac{R_{1,1}}{\\sqrt{1-R_{1,3}^2}} \\right)$\n",
    "\n",
    "$ \\theta_x = \\sin^{-1}\\left(  -\\dfrac{R_{2,3}}{\\sqrt{1-R_{1,3}^2}}  \\right)$"
   ]
  },
  {
   "cell_type": "code",
   "execution_count": 2,
   "metadata": {},
   "outputs": [],
   "source": [
    "def R2theta(R):\n",
    "    theta_y = np.arcsin(R[0, 2])\n",
    "    theta_z = np.arccos(R[0, 0] * (1 - R[0, 2] ** 2) ** (-1 / 2))\n",
    "    theta_x = np.arcsin(-R[1, 2] * (1 - R[0, 2] ** 2) ** (-1 / 2))\n",
    "    return theta_x, theta_y, theta_z"
   ]
  },
  {
   "cell_type": "markdown",
   "metadata": {},
   "source": [
    "`scipy` has the function to calculate the rotational matrix, it wants as input the corresponding ([quaternion](https://en.wikipedia.org/wiki/Quaternions_and_spatial_rotation)).\n",
    "\n",
    "If you know the axis $\\mathbf{r}$ and the rotation angle $\\theta$ the quaternion $\\mathbf{q}$ is:\n",
    "\n",
    "$\n",
    "\\mathbf{q} = \\left\\{ \\cos\\theta, r_x\\cdot\\sin\\theta,  r_y\\cdot\\sin\\theta, r_z\\cdot\\sin\\theta \\right\\}^T\n",
    "$"
   ]
  },
  {
   "cell_type": "code",
   "execution_count": 6,
   "metadata": {},
   "outputs": [],
   "source": [
    "r = np.r_[0, -(2 ** (-0.5)), 2 ** (-0.5)]  # axis of rotation\n",
    "theta = np.arccos(3 ** (-0.5))  # rotation angle\n",
    "q = np.r_[np.cos(theta / 2), r * np.sin(theta / 2)]  # corresponding quaternion\n",
    "\n",
    "R_u = R.from_quat(q).as_matrix()"
   ]
  },
  {
   "cell_type": "code",
   "execution_count": 7,
   "metadata": {},
   "outputs": [
    {
     "name": "stdout",
     "output_type": "stream",
     "text": [
      "θx = 0.7853981633974482 rad,\n",
      "θy = -0.6154797086703873 rad,\n",
      "θz = 0.2617993877991497 rad.\n"
     ]
    }
   ],
   "source": [
    "theta_x, theta_y, theta_z = R2theta(R_u)\n",
    "\n",
    "print(\n",
    "    \"θx = {:1.16f} rad,\\nθy = {:1.16f} rad,\\nθz = {:1.16f} rad.\".format(\n",
    "        theta_x, theta_y, theta_z\n",
    "    )\n",
    ")"
   ]
  },
  {
   "cell_type": "markdown",
   "metadata": {},
   "source": [
    "We calculate the configurations"
   ]
  },
  {
   "cell_type": "code",
   "execution_count": 11,
   "metadata": {},
   "outputs": [
    {
     "name": "stdout",
     "output_type": "stream",
     "text": [
      "-- Case 1 ----------------------------------------------------------------------\n",
      "   ┌ +0.000 ┐                   ┌ +1.000 +0.000 +0.000 ┐\n",
      "r =│ -0.707 │, θ = 0.000 --> R =│ +0.000 -1.000 -0.000 │ \n",
      "   └ +0.707 ┘                   └ -0.000 +0.000 -1.000 ┘\n",
      "\n",
      "ANGOLI x, y, z:\n",
      "θx = 0.0000000000000000 rad \tθx = 0.0000000000000000 deg,\n",
      "θy = 0.0000000000000000 rad \tθy = 0.0000000000000000 deg,\n",
      "θz = 0.0000000000000000 rad \tθz = 0.0000000000000000 deg.\n",
      "\n",
      "-- Case 2 ----------------------------------------------------------------------\n",
      "   ┌ +0.000 ┐                   ┌ +0.975 +0.025 -0.221 ┐\n",
      "r =│ -0.707 │, θ = 0.318 --> R =│ -0.025 -0.975 -0.221 │ \n",
      "   └ +0.707 ┘                   └ -0.221 +0.221 -0.950 ┘\n",
      "\n",
      "ANGOLI x, y, z:\n",
      "θx = 0.2290136875905215 rad \tθx = 13.1215177496644380 deg,\n",
      "θy = -0.2232334906601559 rad \tθy = -12.7903368608000143 deg,\n",
      "θz = 0.0257797964566727 rad \tθz = 1.4770735336736598 deg.\n",
      "\n",
      "-- Case 3 ----------------------------------------------------------------------\n",
      "   ┌ +0.000 ┐                   ┌ +0.902 +0.098 -0.421 ┐\n",
      "r =│ -0.707 │, θ = 0.637 --> R =│ -0.098 -0.902 -0.421 │ \n",
      "   └ +0.707 ┘                   └ -0.421 +0.421 -0.804 ┘\n",
      "\n",
      "ANGOLI x, y, z:\n",
      "θx = 0.4819157777375737 rad \tθx = 27.6117401451276088 deg,\n",
      "θy = -0.4340052124853747 rad \tθy = -24.8666669620904699 deg,\n",
      "θz = 0.1082494085423462 rad \tθz = 6.2022342442638383 deg.\n",
      "\n",
      "-- Case 4 ----------------------------------------------------------------------\n",
      "   ┌ +0.000 ┐                   ┌ +0.789 +0.211 -0.577 ┐\n",
      "r =│ -0.707 │, θ = 0.955 --> R =│ -0.211 -0.789 -0.577 │ \n",
      "   └ +0.707 ┘                   └ -0.577 +0.577 -0.577 ┘\n",
      "\n",
      "ANGOLI x, y, z:\n",
      "θx = 0.7853981633974482 rad \tθx = 44.9999999999999929 deg,\n",
      "θy = -0.6154797086703873 rad \tθy = -35.2643896827546541 deg,\n",
      "θz = 0.2617993877991497 rad \tθz = 15.0000000000000178 deg.\n",
      "\n"
     ]
    }
   ],
   "source": [
    "N = 4\n",
    "theta = np.linspace(0, np.arccos(3 ** (-0.5)), N)\n",
    "\n",
    "for i, theta_i in enumerate(theta):\n",
    "    q = np.r_[np.cos(theta_i / 2), r * np.sin(theta_i / 2)]\n",
    "    R_u = R.from_quat(q).as_matrix()\n",
    "    theta_x, theta_y, theta_z = R2theta(R_u)\n",
    "    print(\"-- Case %d \" % (i + 1) + \"-\" * 70)\n",
    "    print(\n",
    "        \"   ┌ %+1.3f ┐                   ┌ %+1.3f %+1.3f %+1.3f ┐\"\n",
    "        % (r[0], R_u[0, 0], R_u[0, 1], R_u[0, 2])\n",
    "    )\n",
    "    print(\n",
    "        \"r =│ %+1.3f │, θ = %1.3f --> R =│ %+1.3f %1.3f %+1.3f │ \"\n",
    "        % (r[1], theta_i, R_u[1, 0], R_u[1, 1], R_u[1, 2])\n",
    "    )\n",
    "    print(\n",
    "        \"   └ %+1.3f ┘                   └ %+1.3f %+1.3f %+1.3f ┘\"\n",
    "        % (r[2], R_u[2, 0], R_u[2, 1], R_u[2, 2])\n",
    "    )\n",
    "    print(\"\\nANGOLI x, y, z:\")\n",
    "    print(\n",
    "        \"θx = %1.16f rad \\tθx = %1.16f deg,\\nθy = %1.16f rad \\tθy = %1.16f deg,\\nθz = %1.16f rad \\tθz = %1.16f deg.\\n\"\n",
    "        % (\n",
    "            theta_x,\n",
    "            np.rad2deg(theta_x),\n",
    "            theta_y,\n",
    "            np.rad2deg(theta_y),\n",
    "            theta_z,\n",
    "            np.rad2deg(theta_z),\n",
    "        )\n",
    "    )"
   ]
  }
 ],
 "metadata": {
  "kernelspec": {
   "display_name": "Python 3",
   "language": "python",
   "name": "python3"
  },
  "language_info": {
   "codemirror_mode": {
    "name": "ipython",
    "version": 3
   },
   "file_extension": ".py",
   "mimetype": "text/x-python",
   "name": "python",
   "nbconvert_exporter": "python",
   "pygments_lexer": "ipython3",
   "version": "3.8.10"
  }
 },
 "nbformat": 4,
 "nbformat_minor": 4
}
