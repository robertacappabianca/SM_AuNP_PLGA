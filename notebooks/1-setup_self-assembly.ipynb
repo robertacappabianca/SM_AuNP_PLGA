{
 "cells": [
  {
   "cell_type": "markdown",
   "metadata": {},
   "source": [
    "Set up PLGA self-assembly simulations\n",
    "===="
   ]
  },
  {
   "cell_type": "markdown",
   "metadata": {},
   "source": [
    "## Libraries"
   ]
  },
  {
   "cell_type": "code",
   "execution_count": 1,
   "metadata": {},
   "outputs": [],
   "source": [
    "import os\n",
    "import shutil\n",
    "import sys"
   ]
  },
  {
   "cell_type": "markdown",
   "metadata": {},
   "source": [
    "## Create the topology <a name=\"S1\"></a> "
   ]
  },
  {
   "cell_type": "markdown",
   "metadata": {},
   "source": [
    "We use [`Packmol`](http://leandro.iqm.unicamp.br/m3g/packmol/userguide.shtml) code to arrange AuNP in the center of the box and to randomly distribute the PLGA molecules in the rest of the volume (13x13x13 $\\mathrm{nm^{3}}$).\n",
    "\n",
    "> **Note**: to consider molecular modeling configurations including one AuNP and a different concentrations of PLGA we have to change `nPLGA` variable. \n",
    "\n",
    "> Remember to change the name of the `output` file, to not overwrite them."
   ]
  },
  {
   "cell_type": "code",
   "execution_count": null,
   "metadata": {},
   "outputs": [],
   "source": [
    "%cd ../simulations/0-Packmol/\n",
    "\n",
    "file_NP = \"AuNP_ASE_wulff_surf_d39.pdb\"\n",
    "file_PLGA = \"2PLGA_chain_conect.pdb\"\n",
    "nPLGA = 60\n",
    "\n",
    "with open(\n",
    "    os.path.join(\"inputs_self-assembly\", \"packmol_%d.in\" % nPLGA), \"w\"\n",
    ") as file_obj:\n",
    "    file_obj.write(\n",
    "        \"\"\"\n",
    "filetype pdb\n",
    "tolerance 2.0\n",
    "seed 42  \n",
    "\n",
    "structure {:s}\n",
    "number 1\n",
    "center\n",
    "fixed 65.0 65.0 65.0 0.0 0.0 0.0\n",
    "end structure \n",
    "\n",
    "structure {:s}\n",
    "number {:d}\n",
    "inside box 0.0 0.0 0.0 130.0 130.0 130.0 \n",
    "end structure \n",
    "\n",
    "output gold_60plga.pdb     \n",
    "\n",
    "        \"\"\".format(\n",
    "            file_NP, file_PLGA, nPLGA\n",
    "        )\n",
    "    )"
   ]
  },
  {
   "cell_type": "code",
   "execution_count": null,
   "metadata": {},
   "outputs": [],
   "source": [
    "# Change the name of the packmol input\n",
    "\n",
    "%cd inputs_self-assembly/\n",
    "!packmol < packmol_60.in"
   ]
  },
  {
   "cell_type": "code",
   "execution_count": null,
   "metadata": {},
   "outputs": [],
   "source": [
    "shutil.copyfile(\n",
    "    os.path.join(f\"gold_{nPLGA}plga.pdb\"),\n",
    "    os.path.join(\"..\", \"..\", \"1-PLGA_self-assembly\", f\"{nPLGA}\", \"TOP\", \"ic.pdb\"),\n",
    ")"
   ]
  },
  {
   "cell_type": "code",
   "execution_count": null,
   "metadata": {},
   "outputs": [],
   "source": [
    "%cd ../../1-PLGA_self-assembly"
   ]
  },
  {
   "cell_type": "markdown",
   "metadata": {},
   "source": [
    "Then, we generate the topology through `GROMACS` software, using the mixed force field `mix_oplsaa.ff`."
   ]
  },
  {
   "cell_type": "code",
   "execution_count": null,
   "metadata": {},
   "outputs": [],
   "source": [
    "# Change the folder name and generate the topology for all the configurations\n",
    "\n",
    "%cd 60/TOP\n",
    "!gmx pdb2gmx -f ic.pdb -o ic.gro -water spce -ff mix_oplsaa"
   ]
  },
  {
   "cell_type": "markdown",
   "metadata": {},
   "source": [
    "> Remember to change the name of the position restrains in POSRES_GOLD and in POSRES_PLGA for the files `topol_Other.itp` and `topol_Other_chain_A.itp`, respectively"
   ]
  },
  {
   "cell_type": "markdown",
   "metadata": {},
   "source": [
    "## Our MD protocol to simulate the self-assembly of 60 PLGA on a AuNP <a name=\"S2\"></a> "
   ]
  },
  {
   "cell_type": "markdown",
   "metadata": {},
   "source": [
    "### Define box and carry out solvation <a name=\"S2.1\"></a> "
   ]
  },
  {
   "cell_type": "code",
   "execution_count": null,
   "metadata": {},
   "outputs": [],
   "source": [
    "%cd ../BOX\n",
    "!gmx editconf -f ../TOP/ic.gro -o newbox.gro -c no -center 6.5 6.5 6.5 -box 13.0 13.0 13.0 -bt triclinic\n",
    "!gmx solvate -cp newbox.gro -cs spc216.gro -o solv.gro -p ../TOP/topol.top"
   ]
  },
  {
   "cell_type": "markdown",
   "metadata": {},
   "source": [
    "### Energy minimization <a name=\"S2.2\"></a> "
   ]
  },
  {
   "cell_type": "code",
   "execution_count": null,
   "metadata": {},
   "outputs": [],
   "source": [
    "%cd ../EM\n",
    "!gmx grompp -f minim.mdp -r ../BOX/solv.gro -c ../BOX/solv.gro -p ../TOP/topol.top -o em.tpr  \n",
    "!gmx mdrun -v -deffnm em\t\t\t\t\t\n"
   ]
  },
  {
   "cell_type": "markdown",
   "metadata": {},
   "source": [
    "### Equilibration <a name=\"S2.3\"></a> "
   ]
  },
  {
   "cell_type": "markdown",
   "metadata": {},
   "source": [
    "We apply the canonical ensemble `NVT` to reach an equilibrium temperature of 300 K"
   ]
  },
  {
   "cell_type": "code",
   "execution_count": null,
   "metadata": {},
   "outputs": [],
   "source": [
    "%cd ../NVT\n",
    "!gmx grompp -f nvt.mdp -r ../EM/em.gro -c ../EM/em.gro -p ../TOP/topol.top -o nvt.tpr  \n",
    "!gmx mdrun -v -deffnm nvt\t\t\t\t\t"
   ]
  },
  {
   "cell_type": "markdown",
   "metadata": {},
   "source": [
    "We set the isothermal-isobaric ensemble `NPT` at an equilibrium pressure of 1 bar"
   ]
  },
  {
   "cell_type": "code",
   "execution_count": null,
   "metadata": {},
   "outputs": [],
   "source": [
    "%cd ../NPT\n",
    "!gmx grompp -f npt.mdp -r ../NVT/nvt.gro -c ../NVT/nvt.gro -p ../TOP/topol.top -o npt.tpr  \n",
    "!gmx mdrun -v -deffnm npt\t"
   ]
  },
  {
   "cell_type": "markdown",
   "metadata": {},
   "source": [
    "### Run MD <a name=\"S2.4\"></a> "
   ]
  },
  {
   "cell_type": "code",
   "execution_count": null,
   "metadata": {},
   "outputs": [],
   "source": [
    "%cd ../MD\n",
    "!gmx grompp -f md.mdp -r ../NPT/npt.gro -c ../NPT/npt.gro -t ../NPT/npt.cpt -p ../TOP/topol.top -o md_run.tpr  \n",
    "!gmx mdrun -v -deffnm md_run \t"
   ]
  },
  {
   "cell_type": "code",
   "execution_count": 12,
   "metadata": {},
   "outputs": [
    {
     "name": "stdout",
     "output_type": "stream",
     "text": [
      "/home/roberta/SM_AuNP_PLGA/simulations/1-PLGA_self-assembly\n"
     ]
    }
   ],
   "source": [
    "%cd ../../"
   ]
  },
  {
   "cell_type": "markdown",
   "metadata": {},
   "source": [
    "> **NOTE**: We simulated the other configurations with different concentrations of PLGA following the same MD protocol illustrated. \n",
    "\n",
    "> First, remember to perform the following steps in each main folders (`30`, `20` and `10`):\n",
    "\n",
    "> 1. Create the folders: `!mkdir BOX`, `!mkdir EM`, `!mkdir NVT`, `!mkdir NPT` and `!mkdir MD` \n",
    "> 2. Imports the input files (`minim.mdp`, `nvt.mdp`, `npt.mdp` and `md.mdp`) into their respective folders using: `shutil.copyfile(os.path.join(), os.path.join())`"
   ]
  }
 ],
 "metadata": {
  "kernelspec": {
   "display_name": "Python 3",
   "language": "python",
   "name": "python3"
  },
  "language_info": {
   "codemirror_mode": {
    "name": "ipython",
    "version": 3
   },
   "file_extension": ".py",
   "mimetype": "text/x-python",
   "name": "python",
   "nbconvert_exporter": "python",
   "pygments_lexer": "ipython3",
   "version": "3.8.10"
  },
  "toc-autonumbering": true
 },
 "nbformat": 4,
 "nbformat_minor": 4
}
